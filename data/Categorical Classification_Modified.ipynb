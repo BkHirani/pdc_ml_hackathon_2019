{
 "cells": [
  {
   "cell_type": "code",
   "execution_count": 26,
   "metadata": {},
   "outputs": [],
   "source": [
    "#importing Modules\n",
    "\n",
    "import re\n",
    "import pandas as pd\n",
    "import json\n",
    "from xgboost import XGBClassifier\n",
    "from sklearn.metrics import f1_score\n",
    "from sklearn.pipeline import Pipeline\n",
    "from sklearn.model_selection import train_test_split\n",
    "from sklearn.metrics import accuracy_score\n",
    "from sklearn.svm import LinearSVC\n",
    "from sklearn.svm import NuSVC\n",
    "from sklearn.naive_bayes import MultinomialNB\n",
    "from sklearn.metrics import accuracy_score\n",
    "from sklearn.feature_extraction.text import CountVectorizer"
   ]
  },
  {
   "cell_type": "code",
   "execution_count": 2,
   "metadata": {},
   "outputs": [],
   "source": [
    "#For Data cleansing of HTML text\n",
    "\n",
    "def clean_text(text):    \n",
    "    # remove HTML tags\n",
    "    text = re.sub(r'<.*?>', '', text)\n",
    "    \n",
    "    # remove the characters [\\], ['] and [\"]\n",
    "    text = re.sub(r\"\\\\\", \"\", text)    \n",
    "    text = re.sub(r\"\\'\", \"\", text)    \n",
    "    text = re.sub(r\"\\\"\", \"\", text)\n",
    "    text = re.sub(r\"\\xa0\", \"\", text)\n",
    "    \n",
    "    # convert text to lowercase\n",
    "    text = text.strip().lower()\n",
    "    \n",
    "    # replace punctuation characters with spaces\n",
    "    filters='!\"\\'#$%&()*+,-./:;<=>?@[\\\\]^_`{|}~\\t\\n'\n",
    "    translate_dict = dict((c, \" \") for c in filters)\n",
    "    translate_map = str.maketrans(translate_dict)\n",
    "    text = text.translate(translate_map)\n",
    "\n",
    "    return text"
   ]
  },
  {
   "cell_type": "code",
   "execution_count": 3,
   "metadata": {},
   "outputs": [],
   "source": [
    "#Reading and Deviding data into train and test\n",
    "\n",
    "df = pd.read_json(\"train.json\")\n",
    "X_train, X_test, y_train, y_test = train_test_split(df['petition_description'],df['petition_category'] , test_size=0.10, random_state=42)"
   ]
  },
  {
   "cell_type": "code",
   "execution_count": 42,
   "metadata": {},
   "outputs": [],
   "source": [
    "# Transform each text into a vector of word counts\n",
    "\n",
    "vectorizer = CountVectorizer(stop_words=\"english\",\n",
    "                             preprocessor=clean_text)"
   ]
  },
  {
   "cell_type": "code",
   "execution_count": 43,
   "metadata": {},
   "outputs": [],
   "source": [
    "# Generating Vectors from text\n",
    "training_features = vectorizer.fit_transform(X_train)    \n",
    "test_features = vectorizer.transform(X_test)\n"
   ]
  },
  {
   "cell_type": "code",
   "execution_count": 59,
   "metadata": {},
   "outputs": [
    {
     "data": {
      "text/plain": [
       "LinearSVC(C=1.0, class_weight=None, dual=True, fit_intercept=True,\n",
       "     intercept_scaling=1, loss='squared_hinge', max_iter=1000,\n",
       "     multi_class='ovr', penalty='l2', random_state=None, tol=0.0001,\n",
       "     verbose=0)"
      ]
     },
     "execution_count": 59,
     "metadata": {},
     "output_type": "execute_result"
    }
   ],
   "source": [
    "# Training with Linear support vector Machine\n",
    "model = LinearSVC(random_state=42)\n",
    "model"
   ]
  },
  {
   "cell_type": "code",
   "execution_count": 60,
   "metadata": {},
   "outputs": [
    {
     "name": "stderr",
     "output_type": "stream",
     "text": [
      "C:\\Users\\bk\\AppData\\Local\\conda\\conda\\envs\\tensorflow\\lib\\site-packages\\sklearn\\svm\\base.py:931: ConvergenceWarning: Liblinear failed to converge, increase the number of iterations.\n",
      "  \"the number of iterations.\", ConvergenceWarning)\n"
     ]
    }
   ],
   "source": [
    "#Training model with training features\n",
    "\n",
    "model.fit(training_features, y_train)\n",
    "y_pred = model.predict(test_features)"
   ]
  },
  {
   "cell_type": "code",
   "execution_count": 106,
   "metadata": {},
   "outputs": [
    {
     "name": "stdout",
     "output_type": "stream",
     "text": [
      "Accuracy with Linear SVM is  92.24397590361446\n"
     ]
    }
   ],
   "source": [
    "# Evaluation for accuracy\n",
    "acc = accuracy_score(y_test, y_pred)\n",
    "print(\"Accuracy with Linear SVM is \", acc*100)\n"
   ]
  },
  {
   "cell_type": "code",
   "execution_count": 62,
   "metadata": {},
   "outputs": [],
   "source": [
    "#Choosing another approach XGBoost Classifier with different parameters\n",
    "\n",
    "model_Boost = XGBClassifier(random_state=32,learning_rate=0.05,max_depth=3,booster='gbtree',objective='multi:softmax')\n"
   ]
  },
  {
   "cell_type": "code",
   "execution_count": 63,
   "metadata": {},
   "outputs": [
    {
     "data": {
      "text/plain": [
       "XGBClassifier(base_score=0.5, booster='gbtree', colsample_bylevel=1,\n",
       "       colsample_bytree=1, gamma=0, learning_rate=0.05, max_delta_step=0,\n",
       "       max_depth=3, min_child_weight=1, missing=None, n_estimators=100,\n",
       "       n_jobs=1, nthread=None, objective='multi:softprob', random_state=32,\n",
       "       reg_alpha=0, reg_lambda=1, scale_pos_weight=1, seed=None,\n",
       "       silent=True, subsample=1)"
      ]
     },
     "execution_count": 63,
     "metadata": {},
     "output_type": "execute_result"
    }
   ],
   "source": [
    "#Training model with training features\n",
    "\n",
    "model_Boost.fit(training_features, y_train)"
   ]
  },
  {
   "cell_type": "code",
   "execution_count": 107,
   "metadata": {},
   "outputs": [
    {
     "name": "stdout",
     "output_type": "stream",
     "text": [
      "Accuracy with XGBoost Classifier is  92.24397590361446\n"
     ]
    }
   ],
   "source": [
    "y_pred = model_Boost.predict(test_features)\n",
    "acc = accuracy_score(y_test, y_pred)\n",
    "print(\"Accuracy with XGBoost Classifier is \", acc*100)\n"
   ]
  },
  {
   "cell_type": "code",
   "execution_count": 88,
   "metadata": {},
   "outputs": [],
   "source": [
    "#Checking algorithm with live real data from website\n",
    "\n",
    "sample = \"\"\"Hello,\n",
    "\n",
    "We at F-Block Rama Vihar Street No-13 Near Omkar Dham Mandir Delhi 110081, almost 1000+ members of middle-classs families living in apartments developed by a builder. These apartment flats were bought by these families from their lifetime savings from their hardship earning. However, life here is very challenging because of lack of proper roads and sewage disposal facilities.\n",
    "\n",
    "There is no sewage or drainage system in the locality. Sewage water stagnation near our homes is a big threat to the health of children and elders in these colonies. We need both storm water drainage and sewage drainage systems to be put in place.\n",
    "\n",
    "Please Provide us drinking water, drainage, and road facility in F-Block Rama Vihar Street No-13 Near Omkar Dham Mandir Delhi 110081\n",
    "\n",
    "We request the corporation commissioner to take immediate action on this issue and provide us roads, drinking water and drainage.\n",
    "\n",
    "Sincerely,\n",
    "Neeraj Yadav\n",
    "\n",
    "\"\"\""
   ]
  },
  {
   "cell_type": "code",
   "execution_count": 91,
   "metadata": {},
   "outputs": [
    {
     "data": {
      "text/plain": [
       "array(['health care'], dtype=object)"
      ]
     },
     "execution_count": 91,
     "metadata": {},
     "output_type": "execute_result"
    }
   ],
   "source": [
    "#Predicting with XGBoost Classifier\n",
    "sampleOutput = model_Boost.predict(vectorizer.transform([sample]))\n",
    "sampleOutput"
   ]
  },
  {
   "cell_type": "code",
   "execution_count": 92,
   "metadata": {},
   "outputs": [
    {
     "data": {
      "text/plain": [
       "array(['environment issue'], dtype=object)"
      ]
     },
     "execution_count": 92,
     "metadata": {},
     "output_type": "execute_result"
    }
   ],
   "source": [
    "#Predicting with Linear SVM\n",
    "\n",
    "sampleOutput1 = model.predict(vectorizer.transform([sample]))\n",
    "sampleOutput1\n",
    "\n",
    "#Here XGBoost Algo is giving more accuracy and correct predictions"
   ]
  },
  {
   "cell_type": "code",
   "execution_count": 93,
   "metadata": {},
   "outputs": [
    {
     "data": {
      "text/plain": [
       "array(['tax', 'tax', 'tax', ..., 'infrastructure', 'infrastructure',\n",
       "       'infrastructure'], dtype=object)"
      ]
     },
     "execution_count": 93,
     "metadata": {},
     "output_type": "execute_result"
    }
   ],
   "source": [
    "#Working with validation set using XGBoost Classifier\n",
    "\n",
    "valid=pd.read_json('validation.json')\n",
    "validation=valid['petition_description']   \n",
    "valid_features = vectorizer.transform(validation)\n",
    "valOutput = model_Boost.predict(valid_features)\n",
    "valOutput\n",
    "\n",
    "\n"
   ]
  },
  {
   "cell_type": "code",
   "execution_count": 104,
   "metadata": {},
   "outputs": [],
   "source": [
    "output['petition_category']=pd.DataFrame(valOutput, columns=['petition_category'])\n",
    "\n",
    "output['petition_id']=valid['petition_id']\n",
    "\n",
    "output.to_csv('Cout1.csv', sep=',',index=False)"
   ]
  },
  {
   "cell_type": "code",
   "execution_count": null,
   "metadata": {},
   "outputs": [],
   "source": []
  }
 ],
 "metadata": {
  "kernelspec": {
   "display_name": "Python 3",
   "language": "python",
   "name": "python3"
  },
  "language_info": {
   "codemirror_mode": {
    "name": "ipython",
    "version": 3
   },
   "file_extension": ".py",
   "mimetype": "text/x-python",
   "name": "python",
   "nbconvert_exporter": "python",
   "pygments_lexer": "ipython3",
   "version": "3.5.6"
  }
 },
 "nbformat": 4,
 "nbformat_minor": 2
}
